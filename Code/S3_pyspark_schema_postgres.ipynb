{
 "cells": [
  {
   "cell_type": "code",
   "execution_count": 0,
   "metadata": {
    "application/vnd.databricks.v1+cell": {
     "cellMetadata": {},
     "inputWidgets": {},
     "nuid": "5801930e-a741-4449-9857-49c95a9aba00",
     "showTitle": false,
     "title": ""
    }
   },
   "outputs": [],
   "source": [
    "from pyspark import SparkConf\n",
    "from pyspark.sql import SparkSession\n",
    " \n",
    "conf = SparkConf()\n",
    "conf.set('spark.jars.packages', 'org.apache.hadoop:hadoop-aws:3.2.0')\n",
    "conf.set('spark.hadoop.fs.s3a.aws.credentials.provider', 'org.apache.hadoop.fs.s3a.TemporaryAWSCredentialsProvider')\n",
    "conf.set('spark.hadoop.fs.s3a.access.key', '*****************')\n",
    "conf.set('spark.hadoop.fs.s3a.secret.key', '****************************')\n"
   ]
  },
  {
   "cell_type": "code",
   "execution_count": null,
   "metadata": {},
   "outputs": [],
   "source": [
    "\n",
    "spark = SparkSession.builder.appName(\"Batch\").config(conf=conf).getOrCreate()\n",
    "\n",
    "from pyspark.sql.types import *\n",
    "schema = StructType([StructField('event_time', TimestampType(), True),\n",
    "                     StructField('event_type', StringType(), True),\n",
    "                     StructField('product_id', IntegerType(), True),\n",
    "                     StructField('category_id', IntegerType(), True),\n",
    "                     StructField('category_code', StringType(), True),\n",
    "                     StructField('brand', StringType(), True),\n",
    "                     StructField('price', DoubleType(), True),\n",
    "                     StructField('user_id', IntegerType(), True),\n",
    "                     StructField('user_session', StringType(), True),])\n",
    "\n"
   ]
  },
  {
   "cell_type": "code",
   "execution_count": null,
   "metadata": {},
   "outputs": [],
   "source": [
    "year = '*'\n",
    "month = '*'\n",
    "day = '*'\n",
    "hour = '*'"
   ]
  },
  {
   "cell_type": "code",
   "execution_count": null,
   "metadata": {
    "application/vnd.databricks.v1+cell": {
     "cellMetadata": {},
     "inputWidgets": {},
     "nuid": "c5352884-cc39-43df-81b6-3f209f2d0c84",
     "showTitle": false,
     "title": ""
    },
    "pycharm": {
     "is_executing": true
    }
   },
   "outputs": [],
   "source": [
    "df = spark.read.json(f's3a://ecom-user-events/topics/user_activity/year={year}/month={month}/day={day}/hour={hour}/\n",
    "', schema=schema)"
   ]
  },
  {
   "cell_type": "code",
   "execution_count": null,
   "metadata": {},
   "outputs": [],
   "source": [
    "data.write.format(\"jdbc\").options(\n",
    "    url=\"jdbc:postgresql://postgres:3306/postgres\",\n",
    "    driver=\"org.postgresql.Driver\",\n",
    "    dbtable=\"user_events\",\n",
    "    user=\"postgres\",\n",
    "    password=\"1221\"\n",
    ").mode(\"append\").save()"
   ]
  }
 ],
 "metadata": {
  "application/vnd.databricks.v1+notebook": {
   "dashboards": [],
   "language": "python",
   "notebookMetadata": {
    "pythonIndentUnit": 4
   },
   "notebookName": "s3 to pyspark",
   "notebookOrigID": 3469191265276962,
   "widgets": {}
  },
  "kernelspec": {
   "display_name": "Python 3 (ipykernel)",
   "language": "python",
   "name": "python3"
  },
  "language_info": {
   "codemirror_mode": {
    "name": "ipython",
    "version": 3
   },
   "file_extension": ".py",
   "mimetype": "text/x-python",
   "name": "python",
   "nbconvert_exporter": "python",
   "pygments_lexer": "ipython3",
   "version": "3.9.13"
  }
 },
 "nbformat": 4,
 "nbformat_minor": 1
}
