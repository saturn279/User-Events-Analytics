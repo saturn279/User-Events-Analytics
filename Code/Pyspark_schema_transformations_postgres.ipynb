{
 "cells": [
  {
   "cell_type": "code",
   "execution_count": null,
   "id": "d9db847e-9b93-4094-bedb-d8431b7abbe0",
   "metadata": {
    "pycharm": {
     "is_executing": true
    }
   },
   "outputs": [],
   "source": [
    "!wget https://jdbc.postgresql.org/download/postgresql-42.5.1.jar --no-check-certificate"
   ]
  },
  {
   "cell_type": "code",
   "execution_count": 77,
   "id": "9d645090-91cb-48f1-b840-4e3bc8e6bbcc",
   "metadata": {},
   "outputs": [],
   "source": [
    "from pyspark.sql import SparkSession\n",
    "spark = SparkSession.builder.config(\"spark.driver.extraClassPath\", \"postgresql-42.5.1.jar\").config(\"spark.jars\", \"postgresql-42.5.1.jar\").master(\"local\").getOrCreate()\n",
    "sc = spark.sparkContext"
   ]
  },
  {
   "cell_type": "code",
   "execution_count": 78,
   "id": "9af12993-9803-4645-bce8-c5605d703dee",
   "metadata": {},
   "outputs": [],
   "source": [
    "from pyspark.sql.types import *\n",
    "schema = StructType([StructField('event_time', TimestampType(), True),\n",
    "                     StructField('event_type', StringType(), True),\n",
    "                     StructField('product_id', IntegerType(), True),\n",
    "                     StructField('category_id', IntegerType(), True),\n",
    "                     StructField('category_code', StringType(), True),\n",
    "                     StructField('brand', StringType(), True),\n",
    "                     StructField('price', DoubleType(), True),\n",
    "                     StructField('user_id', IntegerType(), True),\n",
    "                     StructField('user_session', StringType(), True),])"
   ]
  },
  {
   "cell_type": "code",
   "execution_count": 79,
   "id": "4194cff0-ac6e-4fd9-820c-3330bfe1018b",
   "metadata": {},
   "outputs": [],
   "source": [
    "df = spark.read.csv(r\"2019-Oct-Sample.csv\", schema=schema)"
   ]
  },
  {
   "cell_type": "code",
   "execution_count": 83,
   "id": "c44885b2-b885-48f2-aeac-b3c2b37609a1",
   "metadata": {},
   "outputs": [],
   "source": [
    "df = df.withColumn('department', regexp_extract('category_code', r'([A-Za-z]*)', 0))\n",
    "df = df.withColumn('category', regexp_extract('category_code', r'([A-Za-z]*)', 1))"
   ]
  },
  {
   "cell_type": "code",
   "execution_count": null,
   "id": "81c5fd03-38f5-4795-8443-79612590e341",
   "metadata": {},
   "outputs": [],
   "source": [
    "countif = lambda condition: sum(when(condition, 1).otherwise(0))\n",
    "df_brands = df.groupBy('brand')\\\n",
    "              .agg(mean('price').alias('avg_price'),\n",
    "                   countDistinct('user_session').alias('total_user_sessions'),\n",
    "                   countDistinct('user_id').alias('total_user_id'),\n",
    "                   countif(df.event_type == 'view').alias('total_views'),\n",
    "                   countif(df.event_type == 'purchase').alias('total_orders'),\n",
    "                   countif(df.event_type == 'cart').alias('total_carted')\n",
    "                  )\\\n",
    "              .show()"
   ]
  },
  {
   "cell_type": "code",
   "execution_count": null,
   "outputs": [],
   "source": [
    "df.write \\\n",
    "    .format(\"jdbc\") \\\n",
    "    .option(\"url\", \"jdbc:postgresql://postgres:5432/postgres\") \\\n",
    "    .option(\"dbtable\", \"user_events\") \\\n",
    "    .option(\"user\", \"postgres\") \\\n",
    "    .option(\"password\", \"1221\") \\\n",
    "    .option(\"driver\", \"org.postgresql.Driver\") \\\n",
    "    .save()"
   ],
   "metadata": {
    "collapsed": false
   }
  },
  {
   "cell_type": "code",
   "execution_count": null,
   "outputs": [],
   "source": [
    "df_brands.write \\\n",
    "    .format(\"jdbc\") \\\n",
    "    .option(\"url\", \"jdbc:postgresql://postgres:5432/postgres\") \\\n",
    "    .option(\"dbtable\", \"brand_details\") \\\n",
    "    .option(\"user\", \"postgres\") \\\n",
    "    .option(\"password\", \"1221\") \\\n",
    "    .option(\"driver\", \"org.postgresql.Driver\") \\\n",
    "    .save()"
   ],
   "metadata": {
    "collapsed": false
   }
  }
 ],
 "metadata": {
  "kernelspec": {
   "display_name": "Python 3 (ipykernel)",
   "language": "python",
   "name": "python3"
  },
  "language_info": {
   "codemirror_mode": {
    "name": "ipython",
    "version": 3
   },
   "file_extension": ".py",
   "mimetype": "text/x-python",
   "name": "python",
   "nbconvert_exporter": "python",
   "pygments_lexer": "ipython3",
   "version": "3.10.8"
  }
 },
 "nbformat": 4,
 "nbformat_minor": 5
}
